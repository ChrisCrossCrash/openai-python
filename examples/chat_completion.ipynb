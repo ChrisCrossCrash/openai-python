{
 "cells": [
  {
   "cell_type": "markdown",
   "metadata": {},
   "source": [
    "# Chat\n",
    "\n",
    "This is the most familiar way of using the OpenAI API. It's basically a programmatic way of using ChatGPT."
   ]
  },
  {
   "cell_type": "code",
   "execution_count": 18,
   "metadata": {},
   "outputs": [],
   "source": [
    "# Initial setup and authentication\n",
    "\n",
    "from dotenv import load_dotenv\n",
    "from openai import OpenAI\n",
    "\n",
    "load_dotenv()\n",
    "client = OpenAI()"
   ]
  },
  {
   "cell_type": "markdown",
   "metadata": {},
   "source": [
    "# the messages object\n",
    "\n",
    "When we make a request, we need to provide a messages list. This is a list of objects that represent the conversation history. The API will use this to generate a new completion. Each object in the list has at least two properties: `role` and `content`. The most common roles are `system` (for setting guidelines for the conversation), `user` (the user's messages), and `assistant` (the bot's messages). The `content` property is a string that represents the message.\n",
    "\n",
    "The API doesn't 'remember' from previous requests. That's why we need to send the entire conversation history every time we want to generate a new completion. This actually offers some advantages. For example, we could allow the user to edit a message to get a new response.\n",
    "\n",
    "Let's start off by creating an existing conversation."
   ]
  },
  {
   "cell_type": "code",
   "execution_count": 19,
   "metadata": {},
   "outputs": [],
   "source": [
    "messages = messages = [\n",
    "    {\"role\": \"system\", \"content\": \"You are a helpful assistant.\"},\n",
    "    {\"role\": \"user\", \"content\": \"Who won the world series in 2020?\"},\n",
    "    {\n",
    "        \"role\": \"assistant\",\n",
    "        \"content\": \"The Los Angeles Dodgers won the World Series in 2020.\",\n",
    "    },\n",
    "    {\"role\": \"user\", \"content\": \"Where was it played?\"},\n",
    "]"
   ]
  },
  {
   "cell_type": "markdown",
   "metadata": {},
   "source": [
    "## Calling the API\n",
    "\n",
    "Let's use our `messages` object to generate a new completion. We will use the `gpt-3.5-turbo` engine, as it is cheap and provides good results for this task."
   ]
  },
  {
   "cell_type": "code",
   "execution_count": 20,
   "metadata": {},
   "outputs": [
    {
     "data": {
      "text/plain": [
       "'The World Series in 2020 was played at Globe Life Field in Arlington, Texas.'"
      ]
     },
     "execution_count": 20,
     "metadata": {},
     "output_type": "execute_result"
    }
   ],
   "source": [
    "response = client.chat.completions.create(\n",
    "    model=\"gpt-3.5-turbo\",\n",
    "    messages=messages,\n",
    ")\n",
    "\n",
    "response.choices[0].message.content"
   ]
  }
 ],
 "metadata": {
  "kernelspec": {
   "display_name": ".venv",
   "language": "python",
   "name": "python3"
  },
  "language_info": {
   "codemirror_mode": {
    "name": "ipython",
    "version": 3
   },
   "file_extension": ".py",
   "mimetype": "text/x-python",
   "name": "python",
   "nbconvert_exporter": "python",
   "pygments_lexer": "ipython3",
   "version": "3.11.6"
  }
 },
 "nbformat": 4,
 "nbformat_minor": 5
}
